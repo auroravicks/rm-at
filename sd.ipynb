{
 "cells": [
  {
   "cell_type": "code",
   "execution_count": 2,
   "metadata": {},
   "outputs": [],
   "source": [
    "import yfinance as yf\n",
    "import numpy as np"
   ]
  },
  {
   "cell_type": "code",
   "execution_count": 9,
   "metadata": {},
   "outputs": [],
   "source": [
    "tickers=[\"BATAINDIA.NS\",\n",
    "         \"MRF.NS\",\n",
    "         \"SAIL.NS\",\"ACC.NS\",\n",
    "         \"GUJGASLTD.NS\",\n",
    "         \"HINDPETRO.NS\",\n",
    "         \"LUPIN.NS\",\n",
    "         \"CUMMINSIND.NS\",\n",
    "         \"ESCORTS.NS\",\n",
    "         \"INDHOTEL.NS\"]"
   ]
  },
  {
   "cell_type": "code",
   "execution_count": 3,
   "metadata": {},
   "outputs": [
    {
     "name": "stdout",
     "output_type": "stream",
     "text": [
      "[*********************100%%**********************]  1 of 1 completed\n"
     ]
    }
   ],
   "source": [
    "ticker = \"CUMMINSIND.NS\"\n",
    "start_date = \"2010-1-1\"\n",
    "end_date = \"2024-1-1\"\n",
    "data = yf.download(ticker, start=start_date, end=end_date,interval='1d')"
   ]
  },
  {
   "cell_type": "code",
   "execution_count": 6,
   "metadata": {},
   "outputs": [
    {
     "data": {
      "text/plain": [
       "0.4593053939065039"
      ]
     },
     "execution_count": 6,
     "metadata": {},
     "output_type": "execute_result"
    }
   ],
   "source": [
    "np.var(data['Close'])**0.5/np.mean(data['Close'])"
   ]
  },
  {
   "cell_type": "code",
   "execution_count": 14,
   "metadata": {},
   "outputs": [],
   "source": [
    "def rarr(data):\n",
    "  return ((np.max(data) - np.min(data))/(np.max(data))) * 100"
   ]
  },
  {
   "cell_type": "code",
   "execution_count": 15,
   "metadata": {},
   "outputs": [
    {
     "name": "stdout",
     "output_type": "stream",
     "text": [
      "[*********************100%%**********************]  1 of 1 completed\n",
      "BATAINDIA.NS\n",
      "96.03740605470037\n",
      "[*********************100%%**********************]  1 of 1 completed\n",
      "MRF.NS\n",
      "95.72142152208494\n",
      "[*********************100%%**********************]  1 of 1 completed\n",
      "SAIL.NS\n",
      "92.05143187076861\n",
      "[*********************100%%**********************]  1 of 1 completed\n",
      "ACC.NS\n",
      "70.68639129015844\n",
      "[*********************100%%**********************]  1 of 1 completed\n",
      "GUJGASLTD.NS\n",
      "87.99248775858125\n",
      "[*********************100%%**********************]  1 of 1 completed\n",
      "HINDPETRO.NS\n",
      "92.57818258466479\n",
      "[*********************100%%**********************]  1 of 1 completed\n",
      "LUPIN.NS\n",
      "86.79232824140266\n",
      "[*********************100%%**********************]  1 of 1 completed\n",
      "CUMMINSIND.NS\n",
      "85.83479316093127\n",
      "[*********************100%%**********************]  1 of 1 completed\n",
      "ESCORTS.NS\n",
      "98.55291097690578\n",
      "[*********************100%%**********************]  1 of 1 completed\n",
      "INDHOTEL.NS\n",
      "92.21687620733599\n"
     ]
    }
   ],
   "source": [
    "for i in tickers:\n",
    "    ticker = i\n",
    "    start_date = \"2010-1-1\"\n",
    "    end_date = \"2024-1-1\"\n",
    "    data = yf.download(ticker, start=start_date, end=end_date,interval='1d')\n",
    "\n",
    "    print(i)\n",
    "    print(rarr(data['Close']))"
   ]
  }
 ],
 "metadata": {
  "kernelspec": {
   "display_name": "Python 3",
   "language": "python",
   "name": "python3"
  },
  "language_info": {
   "codemirror_mode": {
    "name": "ipython",
    "version": 3
   },
   "file_extension": ".py",
   "mimetype": "text/x-python",
   "name": "python",
   "nbconvert_exporter": "python",
   "pygments_lexer": "ipython3",
   "version": "3.12.1"
  },
  "orig_nbformat": 4
 },
 "nbformat": 4,
 "nbformat_minor": 2
}
